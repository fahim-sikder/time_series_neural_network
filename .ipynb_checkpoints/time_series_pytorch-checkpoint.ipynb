{
 "cells": [
  {
   "cell_type": "code",
   "execution_count": 1,
   "metadata": {
    "colab": {},
    "colab_type": "code",
    "id": "I8gBwQBbtHfW"
   },
   "outputs": [],
   "source": [
    "import numpy as np\n",
    "import pandas as pd\n",
    "import matplotlib.pyplot as plt\n",
    "%matplotlib inline\n",
    "from sklearn.preprocessing import MinMaxScaler\n",
    "from sklearn.metrics import r2_score\n",
    "from sklearn.metrics import mean_squared_error\n",
    "import torch\n",
    "import torch.utils.data\n",
    "import torch.nn as nn\n",
    "import collections\n",
    "from torch.autograd import Variable"
   ]
  },
  {
   "cell_type": "code",
   "execution_count": 2,
   "metadata": {
    "colab": {
     "base_uri": "https://localhost:8080/",
     "height": 204
    },
    "colab_type": "code",
    "id": "AmerpXOyuSro",
    "outputId": "3b0ac1a0-e3a3-43db-a82c-0eab0bedeed3"
   },
   "outputs": [
    {
     "data": {
      "text/html": [
       "<div>\n",
       "<style scoped>\n",
       "    .dataframe tbody tr th:only-of-type {\n",
       "        vertical-align: middle;\n",
       "    }\n",
       "\n",
       "    .dataframe tbody tr th {\n",
       "        vertical-align: top;\n",
       "    }\n",
       "\n",
       "    .dataframe thead th {\n",
       "        text-align: right;\n",
       "    }\n",
       "</style>\n",
       "<table border=\"1\" class=\"dataframe\">\n",
       "  <thead>\n",
       "    <tr style=\"text-align: right;\">\n",
       "      <th></th>\n",
       "      <th>Date</th>\n",
       "      <th>Open</th>\n",
       "      <th>High</th>\n",
       "      <th>Low</th>\n",
       "      <th>Close</th>\n",
       "      <th>Adj Close</th>\n",
       "      <th>Volume</th>\n",
       "    </tr>\n",
       "  </thead>\n",
       "  <tbody>\n",
       "    <tr>\n",
       "      <th>0</th>\n",
       "      <td>2014-04-07</td>\n",
       "      <td>75.431427</td>\n",
       "      <td>75.842857</td>\n",
       "      <td>74.555717</td>\n",
       "      <td>74.781425</td>\n",
       "      <td>66.127869</td>\n",
       "      <td>72462600</td>\n",
       "    </tr>\n",
       "    <tr>\n",
       "      <th>1</th>\n",
       "      <td>2014-04-08</td>\n",
       "      <td>75.027145</td>\n",
       "      <td>75.160004</td>\n",
       "      <td>74.099998</td>\n",
       "      <td>74.777145</td>\n",
       "      <td>66.124092</td>\n",
       "      <td>60972100</td>\n",
       "    </tr>\n",
       "    <tr>\n",
       "      <th>2</th>\n",
       "      <td>2014-04-09</td>\n",
       "      <td>74.662857</td>\n",
       "      <td>75.784286</td>\n",
       "      <td>74.574287</td>\n",
       "      <td>75.760002</td>\n",
       "      <td>66.993195</td>\n",
       "      <td>51542400</td>\n",
       "    </tr>\n",
       "    <tr>\n",
       "      <th>3</th>\n",
       "      <td>2014-04-10</td>\n",
       "      <td>75.811432</td>\n",
       "      <td>76.034286</td>\n",
       "      <td>74.738571</td>\n",
       "      <td>74.782860</td>\n",
       "      <td>66.129150</td>\n",
       "      <td>59913000</td>\n",
       "    </tr>\n",
       "    <tr>\n",
       "      <th>4</th>\n",
       "      <td>2014-04-11</td>\n",
       "      <td>74.142860</td>\n",
       "      <td>74.690002</td>\n",
       "      <td>73.877144</td>\n",
       "      <td>74.230003</td>\n",
       "      <td>65.640236</td>\n",
       "      <td>67929400</td>\n",
       "    </tr>\n",
       "  </tbody>\n",
       "</table>\n",
       "</div>"
      ],
      "text/plain": [
       "         Date       Open       High        Low      Close  Adj Close    Volume\n",
       "0  2014-04-07  75.431427  75.842857  74.555717  74.781425  66.127869  72462600\n",
       "1  2014-04-08  75.027145  75.160004  74.099998  74.777145  66.124092  60972100\n",
       "2  2014-04-09  74.662857  75.784286  74.574287  75.760002  66.993195  51542400\n",
       "3  2014-04-10  75.811432  76.034286  74.738571  74.782860  66.129150  59913000\n",
       "4  2014-04-11  74.142860  74.690002  73.877144  74.230003  65.640236  67929400"
      ]
     },
     "execution_count": 2,
     "metadata": {},
     "output_type": "execute_result"
    }
   ],
   "source": [
    "data = pd.read_csv('AAPL.csv')\n",
    "data.head()"
   ]
  },
  {
   "cell_type": "code",
   "execution_count": 3,
   "metadata": {
    "colab": {
     "base_uri": "https://localhost:8080/",
     "height": 221
    },
    "colab_type": "code",
    "id": "WPDpjQdwueOT",
    "outputId": "411ca9cc-3721-483f-e009-b52a908134bd"
   },
   "outputs": [
    {
     "name": "stdout",
     "output_type": "stream",
     "text": [
      "<class 'pandas.core.frame.DataFrame'>\n",
      "RangeIndex: 1259 entries, 0 to 1258\n",
      "Data columns (total 7 columns):\n",
      "Date         1259 non-null object\n",
      "Open         1259 non-null float64\n",
      "High         1259 non-null float64\n",
      "Low          1259 non-null float64\n",
      "Close        1259 non-null float64\n",
      "Adj Close    1259 non-null float64\n",
      "Volume       1259 non-null int64\n",
      "dtypes: float64(5), int64(1), object(1)\n",
      "memory usage: 68.9+ KB\n"
     ]
    }
   ],
   "source": [
    "data.info()"
   ]
  },
  {
   "cell_type": "code",
   "execution_count": 4,
   "metadata": {
    "colab": {
     "base_uri": "https://localhost:8080/",
     "height": 153
    },
    "colab_type": "code",
    "id": "IGj2Xb07uiby",
    "outputId": "e0b592fa-cfe5-4048-ae0b-b8003f886294"
   },
   "outputs": [
    {
     "data": {
      "text/plain": [
       "Date         0\n",
       "Open         0\n",
       "High         0\n",
       "Low          0\n",
       "Close        0\n",
       "Adj Close    0\n",
       "Volume       0\n",
       "dtype: int64"
      ]
     },
     "execution_count": 4,
     "metadata": {},
     "output_type": "execute_result"
    }
   ],
   "source": [
    "data.isnull().sum()"
   ]
  },
  {
   "cell_type": "code",
   "execution_count": 5,
   "metadata": {
    "colab": {
     "base_uri": "https://localhost:8080/",
     "height": 204
    },
    "colab_type": "code",
    "id": "NVkeMjzFulWp",
    "outputId": "cd08d1e1-6307-4842-c970-d06c536e1404"
   },
   "outputs": [
    {
     "data": {
      "text/html": [
       "<div>\n",
       "<style scoped>\n",
       "    .dataframe tbody tr th:only-of-type {\n",
       "        vertical-align: middle;\n",
       "    }\n",
       "\n",
       "    .dataframe tbody tr th {\n",
       "        vertical-align: top;\n",
       "    }\n",
       "\n",
       "    .dataframe thead th {\n",
       "        text-align: right;\n",
       "    }\n",
       "</style>\n",
       "<table border=\"1\" class=\"dataframe\">\n",
       "  <thead>\n",
       "    <tr style=\"text-align: right;\">\n",
       "      <th></th>\n",
       "      <th>Date</th>\n",
       "      <th>Adj Close</th>\n",
       "    </tr>\n",
       "  </thead>\n",
       "  <tbody>\n",
       "    <tr>\n",
       "      <th>0</th>\n",
       "      <td>2014-04-07</td>\n",
       "      <td>66.127869</td>\n",
       "    </tr>\n",
       "    <tr>\n",
       "      <th>1</th>\n",
       "      <td>2014-04-08</td>\n",
       "      <td>66.124092</td>\n",
       "    </tr>\n",
       "    <tr>\n",
       "      <th>2</th>\n",
       "      <td>2014-04-09</td>\n",
       "      <td>66.993195</td>\n",
       "    </tr>\n",
       "    <tr>\n",
       "      <th>3</th>\n",
       "      <td>2014-04-10</td>\n",
       "      <td>66.129150</td>\n",
       "    </tr>\n",
       "    <tr>\n",
       "      <th>4</th>\n",
       "      <td>2014-04-11</td>\n",
       "      <td>65.640236</td>\n",
       "    </tr>\n",
       "  </tbody>\n",
       "</table>\n",
       "</div>"
      ],
      "text/plain": [
       "         Date  Adj Close\n",
       "0  2014-04-07  66.127869\n",
       "1  2014-04-08  66.124092\n",
       "2  2014-04-09  66.993195\n",
       "3  2014-04-10  66.129150\n",
       "4  2014-04-11  65.640236"
      ]
     },
     "execution_count": 5,
     "metadata": {},
     "output_type": "execute_result"
    }
   ],
   "source": [
    "data.drop(['Open','High','Low','Close','Volume'],axis=1,inplace=True)\n",
    "data.head()"
   ]
  },
  {
   "cell_type": "code",
   "execution_count": 6,
   "metadata": {
    "colab": {
     "base_uri": "https://localhost:8080/",
     "height": 136
    },
    "colab_type": "code",
    "id": "IaJxwYjsu9sU",
    "outputId": "aaabca0e-cd21-4320-8d31-9cee560015b9"
   },
   "outputs": [
    {
     "name": "stdout",
     "output_type": "stream",
     "text": [
      "<class 'pandas.core.frame.DataFrame'>\n",
      "RangeIndex: 1259 entries, 0 to 1258\n",
      "Data columns (total 2 columns):\n",
      "Date         1259 non-null datetime64[ns]\n",
      "Adj Close    1259 non-null float64\n",
      "dtypes: datetime64[ns](1), float64(1)\n",
      "memory usage: 19.8 KB\n"
     ]
    }
   ],
   "source": [
    "data['Date'] = pd.to_datetime(data['Date'])\n",
    "data.info()"
   ]
  },
  {
   "cell_type": "code",
   "execution_count": 7,
   "metadata": {
    "colab": {
     "base_uri": "https://localhost:8080/",
     "height": 235
    },
    "colab_type": "code",
    "id": "hWpAEL7Vvpjg",
    "outputId": "91f07610-8675-4719-9227-8531ae177251"
   },
   "outputs": [
    {
     "data": {
      "text/html": [
       "<div>\n",
       "<style scoped>\n",
       "    .dataframe tbody tr th:only-of-type {\n",
       "        vertical-align: middle;\n",
       "    }\n",
       "\n",
       "    .dataframe tbody tr th {\n",
       "        vertical-align: top;\n",
       "    }\n",
       "\n",
       "    .dataframe thead th {\n",
       "        text-align: right;\n",
       "    }\n",
       "</style>\n",
       "<table border=\"1\" class=\"dataframe\">\n",
       "  <thead>\n",
       "    <tr style=\"text-align: right;\">\n",
       "      <th></th>\n",
       "      <th>Adj Close</th>\n",
       "    </tr>\n",
       "    <tr>\n",
       "      <th>Date</th>\n",
       "      <th></th>\n",
       "    </tr>\n",
       "  </thead>\n",
       "  <tbody>\n",
       "    <tr>\n",
       "      <th>2014-04-07</th>\n",
       "      <td>66.127869</td>\n",
       "    </tr>\n",
       "    <tr>\n",
       "      <th>2014-04-08</th>\n",
       "      <td>66.124092</td>\n",
       "    </tr>\n",
       "    <tr>\n",
       "      <th>2014-04-09</th>\n",
       "      <td>66.993195</td>\n",
       "    </tr>\n",
       "    <tr>\n",
       "      <th>2014-04-10</th>\n",
       "      <td>66.129150</td>\n",
       "    </tr>\n",
       "    <tr>\n",
       "      <th>2014-04-11</th>\n",
       "      <td>65.640236</td>\n",
       "    </tr>\n",
       "  </tbody>\n",
       "</table>\n",
       "</div>"
      ],
      "text/plain": [
       "            Adj Close\n",
       "Date                 \n",
       "2014-04-07  66.127869\n",
       "2014-04-08  66.124092\n",
       "2014-04-09  66.993195\n",
       "2014-04-10  66.129150\n",
       "2014-04-11  65.640236"
      ]
     },
     "execution_count": 7,
     "metadata": {},
     "output_type": "execute_result"
    }
   ],
   "source": [
    "data = data.set_index(['Date'], drop=True)\n",
    "data.head()"
   ]
  },
  {
   "cell_type": "code",
   "execution_count": 8,
   "metadata": {
    "colab": {
     "base_uri": "https://localhost:8080/",
     "height": 432
    },
    "colab_type": "code",
    "id": "cVSak9J8wUoS",
    "outputId": "313474fa-adcf-41a1-9c3d-fd1e61267f68"
   },
   "outputs": [
    {
     "data": {
      "text/plain": [
       "<matplotlib.axes._subplots.AxesSubplot at 0x12d52d5128>"
      ]
     },
     "execution_count": 8,
     "metadata": {},
     "output_type": "execute_result"
    },
    {
     "data": {
      "image/png": "[encoded data removed]",
      "text/plain": [
       "<Figure size 1008x504 with 1 Axes>"
      ]
     },
     "metadata": {
      "needs_background": "light"
     },
     "output_type": "display_data"
    }
   ],
   "source": [
    "data['Adj Close'].plot(figsize=(14,7))"
   ]
  },
  {
   "cell_type": "code",
   "execution_count": 9,
   "metadata": {
    "colab": {
     "base_uri": "https://localhost:8080/",
     "height": 136
    },
    "colab_type": "code",
    "id": "B1g77T27wiz6",
    "outputId": "7b36d244-f1f3-48e2-863b-7ed1898f6f7d"
   },
   "outputs": [
    {
     "data": {
      "text/plain": [
       "Date\n",
       "2014-04-07    66.127869\n",
       "2014-04-08    66.124092\n",
       "2014-04-09    66.993195\n",
       "2014-04-10    66.129150\n",
       "2014-04-11    65.640236\n",
       "Name: Adj Close, dtype: float64"
      ]
     },
     "execution_count": 9,
     "metadata": {},
     "output_type": "execute_result"
    }
   ],
   "source": [
    "split_date = pd.Timestamp('2018-01-01')\n",
    "\n",
    "data = data['Adj Close'] #converting dataframe to series\n",
    "data.head()"
   ]
  },
  {
   "cell_type": "code",
   "execution_count": 10,
   "metadata": {
    "colab": {
     "base_uri": "https://localhost:8080/",
     "height": 34
    },
    "colab_type": "code",
    "id": "j0zbSE8MxEvg",
    "outputId": "153f14d9-2e90-47d5-e1e9-9e7c803d8917"
   },
   "outputs": [
    {
     "data": {
      "text/plain": [
       "pandas.core.series.Series"
      ]
     },
     "execution_count": 10,
     "metadata": {},
     "output_type": "execute_result"
    }
   ],
   "source": [
    "type(data)"
   ]
  },
  {
   "cell_type": "code",
   "execution_count": 11,
   "metadata": {
    "colab": {
     "base_uri": "https://localhost:8080/",
     "height": 432
    },
    "colab_type": "code",
    "id": "AMMMicr1xKug",
    "outputId": "09e3ebad-ef3f-4e40-9da1-e2cca0a69272"
   },
   "outputs": [
    {
     "data": {
      "text/plain": [
       "<matplotlib.legend.Legend at 0x12d53a9630>"
      ]
     },
     "execution_count": 11,
     "metadata": {},
     "output_type": "execute_result"
    },
    {
     "data": {
      "image/png": "[encoded data removed]",
      "text/plain": [
       "<Figure size 1008x504 with 1 Axes>"
      ]
     },
     "metadata": {
      "needs_background": "light"
     },
     "output_type": "display_data"
    }
   ],
   "source": [
    "train = data.loc[:split_date]\n",
    "test = data.loc[split_date:]\n",
    "\n",
    "plt.figure(figsize=(14,7))\n",
    "\n",
    "ax = train.plot()\n",
    "test.plot(ax=ax)\n",
    "plt.legend(['train','test'])"
   ]
  },
  {
   "cell_type": "code",
   "execution_count": 12,
   "metadata": {
    "colab": {
     "base_uri": "https://localhost:8080/",
     "height": 136
    },
    "colab_type": "code",
    "id": "jlRXsY-dysKY",
    "outputId": "5cb3cf94-0afb-4339-f0dd-774cb4bc91f1"
   },
   "outputs": [
    {
     "data": {
      "text/plain": [
       "Date\n",
       "2014-04-07    66.127869\n",
       "2014-04-08    66.124092\n",
       "2014-04-09    66.993195\n",
       "2014-04-10    66.129150\n",
       "2014-04-11    65.640236\n",
       "Name: Adj Close, dtype: float64"
      ]
     },
     "execution_count": 12,
     "metadata": {},
     "output_type": "execute_result"
    }
   ],
   "source": [
    "train.head()"
   ]
  },
  {
   "cell_type": "code",
   "execution_count": 13,
   "metadata": {
    "colab": {},
    "colab_type": "code",
    "id": "1chpvL0BzFJT"
   },
   "outputs": [],
   "source": [
    "x_train = train.values.reshape(-1,1)\n",
    "x_test = test.values.reshape(-1,1)\n",
    "scaler = MinMaxScaler(feature_range=(0,1))\n",
    "scaled_train = scaler.fit_transform(x_train)\n",
    "scaled_test = scaler.transform(x_test)"
   ]
  },
  {
   "cell_type": "code",
   "execution_count": 14,
   "metadata": {
    "colab": {
     "base_uri": "https://localhost:8080/",
     "height": 34
    },
    "colab_type": "code",
    "id": "GeKb-L023F0H",
    "outputId": "fb9e00c7-d7cd-4d97-a498-f213f498f1f1"
   },
   "outputs": [],
   "source": [
    "X_train = scaled_train[:-1]\n",
    "y_train = scaled_train[1:]\n",
    "train = torch.from_numpy(X_train)\n",
    "train = train.type(torch.FloatTensor)\n",
    "train_target = torch.from_numpy(y_train)\n",
    "train_target = train_target.type(torch.FloatTensor)\n",
    "#train_tensor = torch.utils.data.TensorDataset(train, train_target)\n",
    "#train_loader = torch.utils.data.DataLoader(dataset = train_tensor, batch_size = 1, shuffle = True)\n",
    "#type(train_loader)"
   ]
  },
  {
   "cell_type": "code",
   "execution_count": 15,
   "metadata": {
    "colab": {
     "base_uri": "https://localhost:8080/",
     "height": 34
    },
    "colab_type": "code",
    "id": "AZ5vVXZn3Zak",
    "outputId": "61a66e13-a994-4a3f-be6e-dafa69c36e9e"
   },
   "outputs": [],
   "source": [
    "X_test = scaled_test[:-1]\n",
    "y_test = scaled_test[1:]\n",
    "test = torch.from_numpy(X_test)\n",
    "test = train.type(torch.FloatTensor)\n",
    "test_target = torch.from_numpy(y_test)\n",
    "test_target = train_target.type(torch.FloatTensor)\n",
    "#test_tensor = torch.utils.data.TensorDataset(test, test_target)\n",
    "#test_loader = torch.utils.data.DataLoader(dataset = test_tensor, batch_size = 1, shuffle = False)\n",
    "#type(test_loader)"
   ]
  },
  {
   "cell_type": "code",
   "execution_count": 16,
   "metadata": {
    "colab": {},
    "colab_type": "code",
    "id": "jjFwh4YZk7gR"
   },
   "outputs": [],
   "source": [
    "#print(isinstance(train_loader, collections.Iterable)) #check if the loaders are iterable\n",
    "#print(isinstance(test_loader, collections.Iterable))"
   ]
  },
  {
   "cell_type": "code",
   "execution_count": 17,
   "metadata": {},
   "outputs": [],
   "source": [
    "class TimeSeries(nn.Module):\n",
    "    def __init__(self, input_dim):\n",
    "        super(TimeSeries, self).__init__()\n",
    "        \n",
    "        self.linear1 = nn.Linear(input_dim, 12)\n",
    "        self.linear2 = nn.Linear(12, 1)\n",
    "        \n",
    "        self.relu = nn.ReLU()\n",
    "        \n",
    "    def forward(self, x):\n",
    "        \n",
    "        out = self.relu(self.linear1(x))\n",
    "        out = self.linear2(out)\n",
    "        \n",
    "        return out"
   ]
  },
  {
   "cell_type": "code",
   "execution_count": 18,
   "metadata": {},
   "outputs": [
    {
     "name": "stdout",
     "output_type": "stream",
     "text": [
      "TimeSeries(\n",
      "  (linear1): Linear(in_features=1, out_features=12, bias=True)\n",
      "  (linear2): Linear(in_features=12, out_features=1, bias=True)\n",
      "  (relu): ReLU()\n",
      ")\n"
     ]
    }
   ],
   "source": [
    "model = TimeSeries(1)\n",
    "print(model)"
   ]
  },
  {
   "cell_type": "code",
   "execution_count": 19,
   "metadata": {
    "colab": {},
    "colab_type": "code",
    "id": "-ZmAtuFu4J3i"
   },
   "outputs": [],
   "source": [
    "criterion = nn.MSELoss()\n",
    "optimizer = torch.optim.Adam(model.parameters(), lr = 0.001)"
   ]
  },
  {
   "cell_type": "code",
   "execution_count": 20,
   "metadata": {},
   "outputs": [
    {
     "name": "stdout",
     "output_type": "stream",
     "text": [
      "step: 0 loss: 0.300\n",
      "step: 10 loss: 0.209\n",
      "step: 20 loss: 0.138\n",
      "step: 30 loss: 0.087\n",
      "step: 40 loss: 0.052\n",
      "step: 50 loss: 0.030\n",
      "step: 60 loss: 0.018\n",
      "step: 70 loss: 0.011\n",
      "step: 80 loss: 0.008\n",
      "step: 90 loss: 0.007\n",
      "step: 100 loss: 0.006\n",
      "step: 110 loss: 0.005\n",
      "step: 120 loss: 0.005\n",
      "step: 130 loss: 0.005\n",
      "step: 140 loss: 0.004\n",
      "step: 150 loss: 0.004\n",
      "step: 160 loss: 0.003\n",
      "step: 170 loss: 0.003\n",
      "step: 180 loss: 0.002\n",
      "step: 190 loss: 0.002\n",
      "step: 200 loss: 0.001\n"
     ]
    }
   ],
   "source": [
    "for epoch in range(201):\n",
    "#for i, (inp, out) in enumerate(train_loader):\n",
    "    inp = Variable(train)\n",
    "    out = Variable(train_target)\n",
    "\n",
    "    optimizer.zero_grad()\n",
    "\n",
    "    output = model(inp)\n",
    "    loss = criterion(output, out)\n",
    "\n",
    "    if epoch%10 == 0:\n",
    "        print('step: {} loss: {:.3f}'.format(epoch, loss.item()))\n",
    "\n",
    "    loss.backward()\n",
    "    optimizer.step()"
   ]
  },
  {
   "cell_type": "code",
   "execution_count": 21,
   "metadata": {},
   "outputs": [
    {
     "name": "stdout",
     "output_type": "stream",
     "text": [
      "The R2 score on the Train set is:\t0.974\n",
      "[[0.09225494]\n",
      " [0.09222962]\n",
      " [0.0980501 ]\n",
      " [0.09226345]\n",
      " [0.0889892 ]]\n",
      "[[0.96181223]\n",
      " [0.96910362]\n",
      " [0.98705824]\n",
      " [0.98113414]\n",
      " [0.98095183]]\n"
     ]
    }
   ],
   "source": [
    "y_pred_test_nn = model.forward(Variable(test)).data.numpy()\n",
    "y_train_pred_nn = model.forward(Variable(train)).data.numpy()\n",
    "print(\"The R2 score on the Train set is:\\t{:0.3f}\".format(r2_score(y_train, y_train_pred_nn)))\n",
    "#print(\"The R2 score on the Test set is:\\t{:0.3f}\".format(r2_score(y_test, y_pred_test_nn)))\n",
    "print(y_pred_test_nn[:5])\n",
    "print(y_test[:5])"
   ]
  },
  {
   "cell_type": "code",
   "execution_count": 22,
   "metadata": {},
   "outputs": [
    {
     "data": {
      "image/png": "[encoded data removed]",
      "text/plain": [
       "<Figure size 720x432 with 1 Axes>"
      ]
     },
     "metadata": {
      "needs_background": "light"
     },
     "output_type": "display_data"
    }
   ],
   "source": [
    "plt.figure(figsize=(10, 6))\n",
    "plt.plot(y_test, label='True')\n",
    "plt.plot(y_pred_test_nn, label='Neural Network')\n",
    "plt.title(\"Prediction\")\n",
    "plt.xlabel('Observation')\n",
    "plt.ylabel('Adj Close Scaled')\n",
    "plt.legend()\n",
    "plt.show()"
   ]
  },
  {
   "cell_type": "code",
   "execution_count": null,
   "metadata": {},
   "outputs": [],
   "source": []
  }
 ],
 "metadata": {
  "accelerator": "GPU",
  "colab": {
   "collapsed_sections": [],
   "name": "time_series_6apr.ipynb",
   "provenance": [],
   "version": "0.3.2"
  },
  "kernelspec": {
   "display_name": "Python 3",
   "language": "python",
   "name": "python3"
  },
  "language_info": {
   "codemirror_mode": {
    "name": "ipython",
    "version": 3
   },
   "file_extension": ".py",
   "mimetype": "text/x-python",
   "name": "python",
   "nbconvert_exporter": "python",
   "pygments_lexer": "ipython3",
   "version": "3.7.1"
  }
 },
 "nbformat": 4,
 "nbformat_minor": 1
}
